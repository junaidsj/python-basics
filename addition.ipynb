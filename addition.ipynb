{
 "cells": [
  {
   "cell_type": "code",
   "execution_count": 1,
   "id": "6733ff7d-1b7e-47d1-a6af-aec0f2230edf",
   "metadata": {},
   "outputs": [],
   "source": [
    "x=57\n",
    "y=45"
   ]
  },
  {
   "cell_type": "code",
   "execution_count": 2,
   "id": "5e1d342b-a905-4093-b8ef-196b7dc64836",
   "metadata": {},
   "outputs": [],
   "source": [
    "z=y+x\n"
   ]
  },
  {
   "cell_type": "code",
   "execution_count": 3,
   "id": "8ad0f85e-014b-4bd8-bace-ccdd8659345a",
   "metadata": {},
   "outputs": [
    {
     "name": "stdout",
     "output_type": "stream",
     "text": [
      "102\n"
     ]
    }
   ],
   "source": [
    "print(z)"
   ]
  },
  {
   "cell_type": "code",
   "execution_count": null,
   "id": "bb63ce3f-4b56-49af-a74d-495546961393",
   "metadata": {},
   "outputs": [],
   "source": []
  }
 ],
 "metadata": {
  "kernelspec": {
   "display_name": "Python 3 (ipykernel)",
   "language": "python",
   "name": "python3"
  },
  "language_info": {
   "codemirror_mode": {
    "name": "ipython",
    "version": 3
   },
   "file_extension": ".py",
   "mimetype": "text/x-python",
   "name": "python",
   "nbconvert_exporter": "python",
   "pygments_lexer": "ipython3",
   "version": "3.12.7"
  }
 },
 "nbformat": 4,
 "nbformat_minor": 5
}
